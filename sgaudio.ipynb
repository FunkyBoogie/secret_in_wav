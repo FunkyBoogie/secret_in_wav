{
 "cells": [
  {
   "cell_type": "markdown",
   "metadata": {},
   "source": [
    "## Imports"
   ]
  },
  {
   "cell_type": "code",
   "execution_count": 1,
   "metadata": {
    "collapsed": false
   },
   "outputs": [],
   "source": [
    "import numpy as np\n",
    "import scipy as sp\n",
    "import scipy.io.wavfile"
   ]
  },
  {
   "cell_type": "markdown",
   "metadata": {},
   "source": [
    "## Settings"
   ]
  },
  {
   "cell_type": "code",
   "execution_count": 24,
   "metadata": {
    "collapsed": false
   },
   "outputs": [],
   "source": [
    "fname = 'brilliant_s.wav'"
   ]
  },
  {
   "cell_type": "code",
   "execution_count": 25,
   "metadata": {
    "collapsed": false
   },
   "outputs": [
    {
     "data": {
      "text/plain": [
       "(22050, (14720,))"
      ]
     },
     "execution_count": 25,
     "metadata": {},
     "output_type": "execute_result"
    }
   ],
   "source": [
    "rate, channels = sp.io.wavfile.read(fname)\n",
    "channels = channels.copy()\n",
    "rate, channels.shape"
   ]
  },
  {
   "cell_type": "markdown",
   "metadata": {},
   "source": [
    "## Encode"
   ]
  },
  {
   "cell_type": "code",
   "execution_count": 26,
   "metadata": {
    "collapsed": false
   },
   "outputs": [
    {
     "data": {
      "text/plain": [
       "168"
      ]
     },
     "execution_count": 26,
     "metadata": {},
     "output_type": "execute_result"
    }
   ],
   "source": [
    "msg = \"super secret message!\"\n",
    "msglen = 8 * len(msg)\n",
    "msglen"
   ]
  },
  {
   "cell_type": "code",
   "execution_count": 16,
   "metadata": {
    "collapsed": false
   },
   "outputs": [
    {
     "data": {
      "text/plain": [
       "(15, 1024)"
      ]
     },
     "execution_count": 16,
     "metadata": {},
     "output_type": "execute_result"
    }
   ],
   "source": [
    "seglen = int(2 * 2**np.ceil(np.log2(2*msglen)))\n",
    "segnum = int(np.ceil(channels.shape[0]/seglen))\n",
    "segnum, seglen"
   ]
  },
  {
   "cell_type": "code",
   "execution_count": 19,
   "metadata": {
    "collapsed": false
   },
   "outputs": [
    {
     "data": {
      "text/plain": [
       "(1, 15360)"
      ]
     },
     "execution_count": 19,
     "metadata": {},
     "output_type": "execute_result"
    }
   ],
   "source": [
    "if len(channels.shape) == 1:\n",
    "    channels.resize(segnum*seglen, refcheck=False)\n",
    "    channels = channels[np.newaxis]\n",
    "else:\n",
    "    channels.resize((segnum*seglen, channels.shape[1]), refcheck=False)\n",
    "    channels = channels.T\n",
    "channels.shape"
   ]
  },
  {
   "cell_type": "code",
   "execution_count": 107,
   "metadata": {
    "collapsed": false
   },
   "outputs": [
    {
     "data": {
      "text/plain": [
       "dtype('int16')"
      ]
     },
     "execution_count": 107,
     "metadata": {},
     "output_type": "execute_result"
    }
   ],
   "source": [
    "channels.dtype"
   ]
  },
  {
   "cell_type": "code",
   "execution_count": 108,
   "metadata": {
    "collapsed": false
   },
   "outputs": [],
   "source": [
    "msgbin = np.ravel([[int(y) for y in format(ord(x), '08b')] for x in msg])\n",
    "msgPi = msgbin.copy()\n",
    "msgPi[msgPi == 0] = -1\n",
    "msgPi = msgPi * -np.pi/2"
   ]
  },
  {
   "cell_type": "code",
   "execution_count": 109,
   "metadata": {
    "collapsed": true
   },
   "outputs": [],
   "source": [
    "segs = channels[0].reshape((segnum,seglen))"
   ]
  },
  {
   "cell_type": "code",
   "execution_count": 110,
   "metadata": {
    "collapsed": false
   },
   "outputs": [
    {
     "name": "stdout",
     "output_type": "stream",
     "text": [
      "[ 1732732.            10767.268033       7954.66402389]\n",
      "[ 3.14159265  0.09033017 -0.50082677]\n"
     ]
    }
   ],
   "source": [
    "segs = np.fft.fft(segs)\n",
    "M = np.abs(segs)\n",
    "P = np.angle(segs)\n",
    "print(M[0,:3])\n",
    "print(P[0,:3])"
   ]
  },
  {
   "cell_type": "code",
   "execution_count": 111,
   "metadata": {
    "collapsed": false
   },
   "outputs": [
    {
     "data": {
      "text/plain": [
       "array([ 0.        ,  2.98824976, -2.62570837,  3.23712372,  1.69074531])"
      ]
     },
     "execution_count": 111,
     "metadata": {},
     "output_type": "execute_result"
    }
   ],
   "source": [
    "dP = np.diff(P, axis=0)\n",
    "dP[0,:5]"
   ]
  },
  {
   "cell_type": "code",
   "execution_count": 112,
   "metadata": {
    "collapsed": false
   },
   "outputs": [],
   "source": [
    "segmid = seglen // 2\n",
    "P[0,-msglen+segmid:segmid] = msgPi\n",
    "P[0,segmid+1:segmid+1+msglen] = -msgPi[::-1]\n",
    "for i in range(1, len(P)): P[i] = P[i-1] + dP[i-1]"
   ]
  },
  {
   "cell_type": "code",
   "execution_count": 113,
   "metadata": {
    "collapsed": false
   },
   "outputs": [],
   "source": [
    "segs = (M * np.exp(1j * P))"
   ]
  },
  {
   "cell_type": "code",
   "execution_count": 114,
   "metadata": {
    "collapsed": false
   },
   "outputs": [],
   "source": [
    "segs = np.fft.ifft(segs).real\n",
    "channels[0] = segs.ravel().astype(np.int16)"
   ]
  },
  {
   "cell_type": "code",
   "execution_count": 115,
   "metadata": {
    "collapsed": false
   },
   "outputs": [],
   "source": [
    "sp.io.wavfile.write('steg_'+fname, rate, channels.T)"
   ]
  },
  {
   "cell_type": "markdown",
   "metadata": {},
   "source": [
    "## Decode"
   ]
  },
  {
   "cell_type": "code",
   "execution_count": 27,
   "metadata": {
    "collapsed": false
   },
   "outputs": [],
   "source": [
    "msglen = 8 * 4\n",
    "seglen = 2*int(2**np.ceil(np.log2(2*msglen)))\n",
    "segmid = seglen // 2"
   ]
  },
  {
   "cell_type": "code",
   "execution_count": 28,
   "metadata": {
    "collapsed": false
   },
   "outputs": [
    {
     "data": {
      "text/plain": [
       "'asdf'"
      ]
     },
     "execution_count": 28,
     "metadata": {},
     "output_type": "execute_result"
    }
   ],
   "source": [
    "if len(channels.shape) == 1:\n",
    "    x = channels[:seglen]\n",
    "else:\n",
    "    x = channels[:seglen,0]\n",
    "x = (np.angle(np.fft.fft(x))[segmid-msglen:segmid] < 0).astype(np.int8)\n",
    "x = x.reshape((-1,8)).dot(1 << np.arange(8 - 1, -1, -1))\n",
    "''.join(np.char.mod('%c',x))"
   ]
  }
 ],
 "metadata": {
  "kernelspec": {
   "display_name": "Python 3",
   "language": "python",
   "name": "python3"
  },
  "language_info": {
   "codemirror_mode": {
    "name": "ipython",
    "version": 3
   },
   "file_extension": ".py",
   "mimetype": "text/x-python",
   "name": "python",
   "nbconvert_exporter": "python",
   "pygments_lexer": "ipython3",
   "version": "3.5.1"
  }
 },
 "nbformat": 4,
 "nbformat_minor": 0
}
